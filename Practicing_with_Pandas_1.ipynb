{
 "cells": [
  {
   "cell_type": "code",
   "execution_count": 1,
   "metadata": {},
   "outputs": [],
   "source": [
    "import pandas as pd"
   ]
  },
  {
   "cell_type": "code",
   "execution_count": 4,
   "metadata": {},
   "outputs": [],
   "source": [
    "customers = pd.read_csv(\"customer_table.csv\", delimiter=',')\n",
    "items = pd.read_csv(\"items_sold_table.csv\",  delimiter=',')"
   ]
  },
  {
   "cell_type": "code",
   "execution_count": 6,
   "metadata": {},
   "outputs": [
    {
     "name": "stdout",
     "output_type": "stream",
     "text": [
      "   name_id    name  gender   income\n",
      "0        1     Bob    Male   40,000\n",
      "1        2     Jim    Male   50,000\n",
      "2        3    Rick    Male   80,000\n",
      "3        4   Katie  Female  120,000\n",
      "4        5  Ashley  Female   60,000\n"
     ]
    }
   ],
   "source": [
    "print(customers)"
   ]
  },
  {
   "cell_type": "code",
   "execution_count": 8,
   "metadata": {},
   "outputs": [
    {
     "name": "stdout",
     "output_type": "stream",
     "text": [
      "    item_id     title  price  buyer_id\n",
      "0         1     table     90         1\n",
      "1         2  speakers    360         1\n",
      "2         3        tv    400         2\n",
      "3         1     table     90         3\n",
      "4         2  speakers    360         3\n",
      "5         3        tv    400         3\n",
      "6         4     couch   1000         4\n",
      "7         1     table     90         4\n",
      "8         2  speakers    360         4\n",
      "9         3        tv    400         4\n",
      "10        5       car  25000         4\n",
      "11        1     table     90         4\n",
      "12        1     table     90         5\n"
     ]
    }
   ],
   "source": [
    "print(items)"
   ]
  },
  {
   "cell_type": "code",
   "execution_count": 10,
   "metadata": {},
   "outputs": [
    {
     "name": "stdout",
     "output_type": "stream",
     "text": [
      "    name_id    name  gender   income  item_id     title  price  buyer_id\n",
      "0         1     Bob    Male   40,000        1     table     90         1\n",
      "1         1     Bob    Male   40,000        2  speakers    360         1\n",
      "2         2     Jim    Male   50,000        3        tv    400         2\n",
      "3         3    Rick    Male   80,000        1     table     90         3\n",
      "4         3    Rick    Male   80,000        2  speakers    360         3\n",
      "5         3    Rick    Male   80,000        3        tv    400         3\n",
      "6         4   Katie  Female  120,000        4     couch   1000         4\n",
      "7         4   Katie  Female  120,000        1     table     90         4\n",
      "8         4   Katie  Female  120,000        2  speakers    360         4\n",
      "9         4   Katie  Female  120,000        3        tv    400         4\n",
      "10        4   Katie  Female  120,000        5       car  25000         4\n",
      "11        4   Katie  Female  120,000        1     table     90         4\n",
      "12        5  Ashley  Female   60,000        1     table     90         5\n"
     ]
    }
   ],
   "source": [
    "#trying a basic merge\n",
    "combined1 = pd.merge(customers, items, left_on='name_id', right_on='buyer_id', how='inner')\n",
    "print(combined1)"
   ]
  },
  {
   "cell_type": "code",
   "execution_count": 170,
   "metadata": {},
   "outputs": [
    {
     "name": "stdout",
     "output_type": "stream",
     "text": [
      "          sum    mean\n",
      "name                 \n",
      "Ashley     90    90.0\n",
      "Bob       450   225.0\n",
      "Jim       400   400.0\n",
      "Katie   26940  4490.0\n",
      "Rick      850   283.3\n"
     ]
    }
   ],
   "source": [
    "#lets see if we can figure out how much each person spend on items\n",
    "print(\n",
    "combined1.groupby(['name'])['price'].agg(['sum', 'mean']).round(1)\n",
    ")\n",
    "#I think the aggregation is a more versatile than just dot function"
   ]
  },
  {
   "cell_type": "code",
   "execution_count": 171,
   "metadata": {},
   "outputs": [
    {
     "name": "stdout",
     "output_type": "stream",
     "text": [
      "          sum    mean\n",
      "name                 \n",
      "Katie   26940  4490.0\n",
      "Rick      850   283.3\n",
      "Bob       450   225.0\n",
      "Jim       400   400.0\n",
      "Ashley     90    90.0\n"
     ]
    }
   ],
   "source": [
    "#and let's just sort some stuff\n",
    "print(\n",
    "combined1.groupby(['name'])['price'].agg(['sum', 'mean']).sort_values(['sum', 'mean'], ascending=False).round(1)\n",
    ")"
   ]
  },
  {
   "cell_type": "code",
   "execution_count": 172,
   "metadata": {},
   "outputs": [
    {
     "name": "stdout",
     "output_type": "stream",
     "text": [
      "      sum   mean\n",
      "name            \n",
      "Bob   450  225.0\n",
      "Jim   400  400.0\n",
      "Rick  850  283.3\n",
      "          sum  mean\n",
      "name               \n",
      "Ashley     90    90\n",
      "Katie   26940  4490\n"
     ]
    }
   ],
   "source": [
    "#now let's take the above aggregation and filter it just for men, the first version\n",
    "print(\n",
    "combined1[combined1['gender'] == 'Male'].groupby(['name'])['price'].agg(['sum', 'mean']).round(1)\n",
    ")\n",
    "print(\n",
    "combined1[combined1['gender'] == 'Female'].groupby(['name'])['price'].agg(['sum', 'mean']).round(1)\n",
    ")"
   ]
  },
  {
   "cell_type": "code",
   "execution_count": 55,
   "metadata": {},
   "outputs": [
    {
     "name": "stdout",
     "output_type": "stream",
     "text": [
      "sum    566.67\n",
      "dtype: float64\n",
      "sum    13515.0\n",
      "dtype: float64\n"
     ]
    }
   ],
   "source": [
    "#let's see if we can get this inot say one summary stat about it\n",
    "print(\n",
    "combined1[combined1['gender'] == 'Male'].groupby(['name'])['price'].agg(['sum']).mean().round(2)\n",
    ")\n",
    "#This will be the average total for men.\n",
    "print(\n",
    "combined1[combined1['gender'] == 'Female'].groupby(['name'])['price'].agg(['sum']).mean().round(2)\n",
    ")\n",
    "#This will be the average total for women.\n",
    "#also notice the slick rounding"
   ]
  },
  {
   "cell_type": "code",
   "execution_count": 177,
   "metadata": {},
   "outputs": [
    {
     "name": "stdout",
     "output_type": "stream",
     "text": [
      "gender  Female   Male\n",
      "name                 \n",
      "Ashley    90.0    NaN\n",
      "Bob        NaN  225.0\n",
      "Jim        NaN  400.0\n",
      "Katie   4490.0    NaN\n",
      "Rick       NaN  283.0\n"
     ]
    }
   ],
   "source": [
    "#now let's briefly think about pivot tables with pandas\n",
    "pivot_table = pd.pivot_table(combined1, values = 'price', index= 'name', columns = 'gender').round(0)\n",
    "print(pivot_table)"
   ]
  },
  {
   "cell_type": "code",
   "execution_count": null,
   "metadata": {},
   "outputs": [],
   "source": [
    "#so a question that could be asked\n",
    "#what is the average total spend by men"
   ]
  },
  {
   "cell_type": "code",
   "execution_count": 64,
   "metadata": {},
   "outputs": [
    {
     "name": "stdout",
     "output_type": "stream",
     "text": [
      "   name_id  name gender  income\n",
      "0        1   Bob   Male  40,000\n",
      "1        2   Jim   Male  50,000\n",
      "2        3  Rick   Male  80,000\n",
      "   item_id     title  price  buyer_id\n",
      "0        1     table     90         1\n",
      "1        2  speakers    360         1\n",
      "2        3        tv    400         2\n"
     ]
    }
   ],
   "source": [
    "#let's review out data again\n",
    "print(customers.head(3))\n",
    "print(items.head(3))"
   ]
  },
  {
   "cell_type": "code",
   "execution_count": 65,
   "metadata": {},
   "outputs": [
    {
     "name": "stdout",
     "output_type": "stream",
     "text": [
      "    name_id    name  gender   income  item_id     title  price  buyer_id\n",
      "0         1     Bob    Male   40,000        1     table     90         1\n",
      "1         1     Bob    Male   40,000        2  speakers    360         1\n",
      "2         2     Jim    Male   50,000        3        tv    400         2\n",
      "3         3    Rick    Male   80,000        1     table     90         3\n",
      "4         3    Rick    Male   80,000        2  speakers    360         3\n",
      "5         3    Rick    Male   80,000        3        tv    400         3\n",
      "6         4   Katie  Female  120,000        4     couch   1000         4\n",
      "7         4   Katie  Female  120,000        1     table     90         4\n",
      "8         4   Katie  Female  120,000        2  speakers    360         4\n",
      "9         4   Katie  Female  120,000        3        tv    400         4\n",
      "10        4   Katie  Female  120,000        5       car  25000         4\n",
      "11        4   Katie  Female  120,000        1     table     90         4\n",
      "12        5  Ashley  Female   60,000        1     table     90         5\n"
     ]
    }
   ],
   "source": [
    "#first let's JOIN the tables together\n",
    "combined2 = pd.merge(customers, items, left_on='name_id', right_on='buyer_id')\n",
    "print(combined2)"
   ]
  },
  {
   "cell_type": "code",
   "execution_count": 127,
   "metadata": {},
   "outputs": [
    {
     "name": "stdout",
     "output_type": "stream",
     "text": [
      "566.7\n"
     ]
    }
   ],
   "source": [
    "male_total_spend_mean = combined2[combined2['gender'] == 'Male'].groupby('name').sum()['price'].mean().round(1)\n",
    "print(male_total_spend_mean)\n",
    "#here's what i think goes on here:\n",
    "#when you do the sum, you only include the integer columns, so you need to do the gender sort early"
   ]
  },
  {
   "cell_type": "code",
   "execution_count": 128,
   "metadata": {},
   "outputs": [
    {
     "name": "stdout",
     "output_type": "stream",
     "text": [
      "13515.0\n"
     ]
    }
   ],
   "source": [
    "#using the same logic, let's check the women:\n",
    "female_total_spend_mean = combined2[combined2['gender'] == 'Female'].groupby('name').sum()['price'].mean().round(1)\n",
    "print(female_total_spend_mean)"
   ]
  },
  {
   "cell_type": "code",
   "execution_count": 115,
   "metadata": {},
   "outputs": [],
   "source": [
    "#now i am trying to basically replicate a having clause in the pandas stuff"
   ]
  },
  {
   "cell_type": "code",
   "execution_count": 169,
   "metadata": {},
   "outputs": [
    {
     "name": "stdout",
     "output_type": "stream",
     "text": [
      "        name_id  item_id  price  buyer_id\n",
      "name                                     \n",
      "Ashley        5        1     90         5\n",
      "Jim           2        3    400         2\n",
      "Bob           2        3    450         2\n",
      "Rick          9        6    850         9\n",
      "Katie        24       16  26940        24\n",
      "       name_id  item_id  price  buyer_id\n",
      "name                                    \n",
      "Bob          2        3    450         2\n",
      "Rick         9        6    850         9\n",
      "Katie       24       16  26940        24\n"
     ]
    }
   ],
   "source": [
    "#bizare, but this is effectivley how to simulate a HAVING clause in pandas\n",
    "#indexed_df[indexed_df['petal length (cm)'] > 1.4]\n",
    "#https://stackoverflow.com/questions/48304854/pandas-filter-method-with-lambda-function?rq=1\n",
    "test = combined2.groupby('name').sum()\n",
    "print(test.sort_values('price'))\n",
    "\n",
    "print(test[test['price'] > 400].sort_values('price'))\n",
    "#i've add the sort_values stuff to order it\n",
    "#and the notes from the peson who got it:\n",
    "#\"\"\" \n",
    "#You can use the condition indexed_df['petal length (cm)'] > 1.4 \n",
    "#(here we use indexed_df, not  x) as a way to filter the dataframe, so:\n",
    "#indexed_df[indexed_df['petal length (cm)'] > 1.4]\n",
    "#How does this work?\n",
    "#If you perform indexed_df['petal length (cm)'] you obtain the \"column\" of the dataframe: \n",
    "#some sort of sequence where for every index, we get the value of that column. \n",
    "#By performing a column > 1.4, we obtain some sort of column of booleans: True if the condition is met \n",
    "#for a certain row, and  False otherwise.\n",
    "#We then can use such boolean column as an element for the dataframe indexed_df[boolean_column] \n",
    "#to obtain only the rows where the corresponding row of the boolean_column is True.\n",
    "#\"\"\""
   ]
  },
  {
   "cell_type": "code",
   "execution_count": 168,
   "metadata": {},
   "outputs": [
    {
     "name": "stdout",
     "output_type": "stream",
     "text": [
      "        name_id  item_id  price  buyer_id\n",
      "name                                     \n",
      "Ashley        5        1     90         5\n",
      "Jim           2        3    400         2\n",
      "Bob           2        3    450         2\n",
      "Rick          9        6    850         9\n",
      "Katie        24       16  26940        24\n",
      "        name_id  item_id  price  buyer_id\n",
      "name                                     \n",
      "Ashley        5        1     90         5\n",
      "Jim           2        3    400         2\n"
     ]
    }
   ],
   "source": [
    "test = combined2.groupby('name').sum()\n",
    "print(test.sort_values('price'))\n",
    "\n",
    "print(test[(test['price'] > 400) == False].sort_values('price'))\n",
    "#this way helps you get the other reveser"
   ]
  },
  {
   "cell_type": "code",
   "execution_count": null,
   "metadata": {},
   "outputs": [],
   "source": []
  }
 ],
 "metadata": {
  "kernelspec": {
   "display_name": "Python 3",
   "language": "python",
   "name": "python3"
  },
  "language_info": {
   "codemirror_mode": {
    "name": "ipython",
    "version": 3
   },
   "file_extension": ".py",
   "mimetype": "text/x-python",
   "name": "python",
   "nbconvert_exporter": "python",
   "pygments_lexer": "ipython3",
   "version": "3.7.1"
  }
 },
 "nbformat": 4,
 "nbformat_minor": 2
}
